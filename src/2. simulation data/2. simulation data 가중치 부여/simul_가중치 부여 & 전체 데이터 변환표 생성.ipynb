{
 "cells": [
  {
   "cell_type": "code",
   "execution_count": 2,
   "metadata": {},
   "outputs": [],
   "source": [
    "import pandas as pd\n",
    "import numpy as np\n",
    "import os"
   ]
  },
  {
   "cell_type": "code",
   "execution_count": 4,
   "metadata": {},
   "outputs": [],
   "source": [
    "df = pd.read_csv(\"../input/transform_chicago.csv\")"
   ]
  },
  {
   "cell_type": "code",
   "execution_count": 5,
   "metadata": {
    "scrolled": true
   },
   "outputs": [
    {
     "data": {
      "text/html": [
       "<div>\n",
       "<style scoped>\n",
       "    .dataframe tbody tr th:only-of-type {\n",
       "        vertical-align: middle;\n",
       "    }\n",
       "\n",
       "    .dataframe tbody tr th {\n",
       "        vertical-align: top;\n",
       "    }\n",
       "\n",
       "    .dataframe thead th {\n",
       "        text-align: right;\n",
       "    }\n",
       "</style>\n",
       "<table border=\"1\" class=\"dataframe\">\n",
       "  <thead>\n",
       "    <tr style=\"text-align: right;\">\n",
       "      <th></th>\n",
       "      <th>POSTED_SPEED_LIMIT</th>\n",
       "      <th>WEATHER_CONDITION</th>\n",
       "      <th>ROADWAY_SURFACE_COND</th>\n",
       "      <th>ROAD_DEFECT</th>\n",
       "      <th>CRASH_HOUR</th>\n",
       "      <th>INJURIES_TOTAL</th>\n",
       "    </tr>\n",
       "  </thead>\n",
       "  <tbody>\n",
       "    <tr>\n",
       "      <th>0</th>\n",
       "      <td>0.03</td>\n",
       "      <td>0.83</td>\n",
       "      <td>0.78</td>\n",
       "      <td>0.97</td>\n",
       "      <td>0.24</td>\n",
       "      <td>0.85</td>\n",
       "    </tr>\n",
       "    <tr>\n",
       "      <th>1</th>\n",
       "      <td>0.02</td>\n",
       "      <td>0.83</td>\n",
       "      <td>0.78</td>\n",
       "      <td>0.97</td>\n",
       "      <td>0.42</td>\n",
       "      <td>0.85</td>\n",
       "    </tr>\n",
       "    <tr>\n",
       "      <th>2</th>\n",
       "      <td>0.08</td>\n",
       "      <td>0.83</td>\n",
       "      <td>0.78</td>\n",
       "      <td>0.97</td>\n",
       "      <td>0.42</td>\n",
       "      <td>0.85</td>\n",
       "    </tr>\n",
       "    <tr>\n",
       "      <th>3</th>\n",
       "      <td>0.80</td>\n",
       "      <td>0.83</td>\n",
       "      <td>0.78</td>\n",
       "      <td>0.97</td>\n",
       "      <td>0.24</td>\n",
       "      <td>0.85</td>\n",
       "    </tr>\n",
       "    <tr>\n",
       "      <th>4</th>\n",
       "      <td>0.08</td>\n",
       "      <td>0.83</td>\n",
       "      <td>0.78</td>\n",
       "      <td>0.97</td>\n",
       "      <td>0.42</td>\n",
       "      <td>0.85</td>\n",
       "    </tr>\n",
       "    <tr>\n",
       "      <th>...</th>\n",
       "      <td>...</td>\n",
       "      <td>...</td>\n",
       "      <td>...</td>\n",
       "      <td>...</td>\n",
       "      <td>...</td>\n",
       "      <td>...</td>\n",
       "    </tr>\n",
       "    <tr>\n",
       "      <th>357553</th>\n",
       "      <td>0.80</td>\n",
       "      <td>0.83</td>\n",
       "      <td>0.78</td>\n",
       "      <td>0.97</td>\n",
       "      <td>0.42</td>\n",
       "      <td>0.13</td>\n",
       "    </tr>\n",
       "    <tr>\n",
       "      <th>357554</th>\n",
       "      <td>0.80</td>\n",
       "      <td>0.83</td>\n",
       "      <td>0.78</td>\n",
       "      <td>0.97</td>\n",
       "      <td>0.42</td>\n",
       "      <td>0.85</td>\n",
       "    </tr>\n",
       "    <tr>\n",
       "      <th>357555</th>\n",
       "      <td>0.80</td>\n",
       "      <td>0.83</td>\n",
       "      <td>0.78</td>\n",
       "      <td>0.97</td>\n",
       "      <td>0.26</td>\n",
       "      <td>0.13</td>\n",
       "    </tr>\n",
       "    <tr>\n",
       "      <th>357556</th>\n",
       "      <td>0.80</td>\n",
       "      <td>0.83</td>\n",
       "      <td>0.78</td>\n",
       "      <td>0.97</td>\n",
       "      <td>0.24</td>\n",
       "      <td>0.85</td>\n",
       "    </tr>\n",
       "    <tr>\n",
       "      <th>357557</th>\n",
       "      <td>0.07</td>\n",
       "      <td>0.83</td>\n",
       "      <td>0.78</td>\n",
       "      <td>0.97</td>\n",
       "      <td>0.26</td>\n",
       "      <td>0.85</td>\n",
       "    </tr>\n",
       "  </tbody>\n",
       "</table>\n",
       "<p>357558 rows × 6 columns</p>\n",
       "</div>"
      ],
      "text/plain": [
       "        POSTED_SPEED_LIMIT  WEATHER_CONDITION  ROADWAY_SURFACE_COND  \\\n",
       "0                     0.03               0.83                  0.78   \n",
       "1                     0.02               0.83                  0.78   \n",
       "2                     0.08               0.83                  0.78   \n",
       "3                     0.80               0.83                  0.78   \n",
       "4                     0.08               0.83                  0.78   \n",
       "...                    ...                ...                   ...   \n",
       "357553                0.80               0.83                  0.78   \n",
       "357554                0.80               0.83                  0.78   \n",
       "357555                0.80               0.83                  0.78   \n",
       "357556                0.80               0.83                  0.78   \n",
       "357557                0.07               0.83                  0.78   \n",
       "\n",
       "        ROAD_DEFECT  CRASH_HOUR  INJURIES_TOTAL  \n",
       "0              0.97        0.24            0.85  \n",
       "1              0.97        0.42            0.85  \n",
       "2              0.97        0.42            0.85  \n",
       "3              0.97        0.24            0.85  \n",
       "4              0.97        0.42            0.85  \n",
       "...             ...         ...             ...  \n",
       "357553         0.97        0.42            0.13  \n",
       "357554         0.97        0.42            0.85  \n",
       "357555         0.97        0.26            0.13  \n",
       "357556         0.97        0.24            0.85  \n",
       "357557         0.97        0.26            0.85  \n",
       "\n",
       "[357558 rows x 6 columns]"
      ]
     },
     "execution_count": 5,
     "metadata": {},
     "output_type": "execute_result"
    }
   ],
   "source": [
    "df"
   ]
  },
  {
   "cell_type": "code",
   "execution_count": 6,
   "metadata": {},
   "outputs": [],
   "source": [
    "def displacementCol(df):\n",
    "    df = set(df)\n",
    "    df = list(df)\n",
    "    df = pd.Series(df)\n",
    "    df = df.sort_values(ascending=False)\n",
    "    \n",
    "    return df"
   ]
  },
  {
   "cell_type": "code",
   "execution_count": 7,
   "metadata": {},
   "outputs": [
    {
     "data": {
      "text/plain": [
       "1    0.80\n",
       "2    0.08\n",
       "3    0.07\n",
       "0    0.03\n",
       "4    0.02\n",
       "dtype: float64"
      ]
     },
     "execution_count": 7,
     "metadata": {},
     "output_type": "execute_result"
    }
   ],
   "source": [
    "df_POSTED_SPEED_LIMIT = df['POSTED_SPEED_LIMIT']\n",
    "df_POSTED_SPEED_LIMIT = displacementCol(df_POSTED_SPEED_LIMIT)\n",
    "df1 = df_POSTED_SPEED_LIMIT\n",
    "df1"
   ]
  },
  {
   "cell_type": "code",
   "execution_count": 8,
   "metadata": {},
   "outputs": [
    {
     "data": {
      "text/plain": [
       "0    0.83\n",
       "1    0.09\n",
       "4    0.04\n",
       "2    0.03\n",
       "3    0.01\n",
       "dtype: float64"
      ]
     },
     "execution_count": 8,
     "metadata": {},
     "output_type": "execute_result"
    }
   ],
   "source": [
    "df_WEATHER_CONDITION = df['WEATHER_CONDITION']\n",
    "df_WEATHER_CONDITION = displacementCol(df_WEATHER_CONDITION)\n",
    "df2 = df_WEATHER_CONDITION\n",
    "df2"
   ]
  },
  {
   "cell_type": "code",
   "execution_count": 9,
   "metadata": {},
   "outputs": [
    {
     "data": {
      "text/plain": [
       "0    0.78\n",
       "1    0.15\n",
       "3    0.04\n",
       "4    0.02\n",
       "2    0.01\n",
       "dtype: float64"
      ]
     },
     "execution_count": 9,
     "metadata": {},
     "output_type": "execute_result"
    }
   ],
   "source": [
    "df_ROADWAY_SURFACE_COND = df['ROADWAY_SURFACE_COND']\n",
    "df_ROADWAY_SURFACE_COND = displacementCol(df_ROADWAY_SURFACE_COND)\n",
    "df3 = df_ROADWAY_SURFACE_COND\n",
    "df3"
   ]
  },
  {
   "cell_type": "code",
   "execution_count": 10,
   "metadata": {},
   "outputs": [
    {
     "data": {
      "text/plain": [
       "0    0.97\n",
       "1    0.03\n",
       "dtype: float64"
      ]
     },
     "execution_count": 10,
     "metadata": {},
     "output_type": "execute_result"
    }
   ],
   "source": [
    "df_ROAD_DEFECT = df['ROAD_DEFECT']\n",
    "df_ROAD_DEFECT = displacementCol(df_ROAD_DEFECT)\n",
    "df4 = df_ROAD_DEFECT\n",
    "df4"
   ]
  },
  {
   "cell_type": "code",
   "execution_count": 11,
   "metadata": {
    "scrolled": true
   },
   "outputs": [
    {
     "data": {
      "text/plain": [
       "3    0.42\n",
       "1    0.26\n",
       "0    0.24\n",
       "2    0.08\n",
       "dtype: float64"
      ]
     },
     "execution_count": 11,
     "metadata": {},
     "output_type": "execute_result"
    }
   ],
   "source": [
    "df_CRASH_HOUR = df['CRASH_HOUR']\n",
    "df_CRASH_HOUR = displacementCol(df_CRASH_HOUR)\n",
    "df5 = df_CRASH_HOUR\n",
    "df5"
   ]
  },
  {
   "cell_type": "code",
   "execution_count": 16,
   "metadata": {},
   "outputs": [],
   "source": [
    "table = pd.DataFrame(index=range(0,5), columns=['POSTED_SPEED_LIMIT', 'WEATHER_CONDITION', 'ROADWAY_SURFACE_COND', 'ROAD_DEFECT', 'CRASH_HOUR'])"
   ]
  },
  {
   "cell_type": "code",
   "execution_count": 22,
   "metadata": {},
   "outputs": [],
   "source": [
    "table['POSTED_SPEED_LIMIT'] = df1\n",
    "table['WEATHER_CONDITION'] = df2\n",
    "table['ROADWAY_SURFACE_COND'] = df3\n",
    "table['ROAD_DEFECT'] = df4\n",
    "table['CRASH_HOUR'] = df5"
   ]
  },
  {
   "cell_type": "code",
   "execution_count": 23,
   "metadata": {},
   "outputs": [
    {
     "data": {
      "text/html": [
       "<div>\n",
       "<style scoped>\n",
       "    .dataframe tbody tr th:only-of-type {\n",
       "        vertical-align: middle;\n",
       "    }\n",
       "\n",
       "    .dataframe tbody tr th {\n",
       "        vertical-align: top;\n",
       "    }\n",
       "\n",
       "    .dataframe thead th {\n",
       "        text-align: right;\n",
       "    }\n",
       "</style>\n",
       "<table border=\"1\" class=\"dataframe\">\n",
       "  <thead>\n",
       "    <tr style=\"text-align: right;\">\n",
       "      <th></th>\n",
       "      <th>POSTED_SPEED_LIMIT</th>\n",
       "      <th>WEATHER_CONDITION</th>\n",
       "      <th>ROADWAY_SURFACE_COND</th>\n",
       "      <th>ROAD_DEFECT</th>\n",
       "      <th>CRASH_HOUR</th>\n",
       "    </tr>\n",
       "  </thead>\n",
       "  <tbody>\n",
       "    <tr>\n",
       "      <th>0</th>\n",
       "      <td>0.03</td>\n",
       "      <td>0.83</td>\n",
       "      <td>0.78</td>\n",
       "      <td>0.97</td>\n",
       "      <td>0.24</td>\n",
       "    </tr>\n",
       "    <tr>\n",
       "      <th>1</th>\n",
       "      <td>0.80</td>\n",
       "      <td>0.09</td>\n",
       "      <td>0.15</td>\n",
       "      <td>0.03</td>\n",
       "      <td>0.26</td>\n",
       "    </tr>\n",
       "    <tr>\n",
       "      <th>2</th>\n",
       "      <td>0.08</td>\n",
       "      <td>0.03</td>\n",
       "      <td>0.01</td>\n",
       "      <td>NaN</td>\n",
       "      <td>0.08</td>\n",
       "    </tr>\n",
       "    <tr>\n",
       "      <th>3</th>\n",
       "      <td>0.07</td>\n",
       "      <td>0.01</td>\n",
       "      <td>0.04</td>\n",
       "      <td>NaN</td>\n",
       "      <td>0.42</td>\n",
       "    </tr>\n",
       "    <tr>\n",
       "      <th>4</th>\n",
       "      <td>0.02</td>\n",
       "      <td>0.04</td>\n",
       "      <td>0.02</td>\n",
       "      <td>NaN</td>\n",
       "      <td>NaN</td>\n",
       "    </tr>\n",
       "  </tbody>\n",
       "</table>\n",
       "</div>"
      ],
      "text/plain": [
       "   POSTED_SPEED_LIMIT  WEATHER_CONDITION  ROADWAY_SURFACE_COND  ROAD_DEFECT  \\\n",
       "0                0.03               0.83                  0.78         0.97   \n",
       "1                0.80               0.09                  0.15         0.03   \n",
       "2                0.08               0.03                  0.01          NaN   \n",
       "3                0.07               0.01                  0.04          NaN   \n",
       "4                0.02               0.04                  0.02          NaN   \n",
       "\n",
       "   CRASH_HOUR  \n",
       "0        0.24  \n",
       "1        0.26  \n",
       "2        0.08  \n",
       "3        0.42  \n",
       "4         NaN  "
      ]
     },
     "execution_count": 23,
     "metadata": {},
     "output_type": "execute_result"
    }
   ],
   "source": [
    "table"
   ]
  },
  {
   "cell_type": "code",
   "execution_count": 27,
   "metadata": {},
   "outputs": [
    {
     "data": {
      "text/plain": [
       "[0.97, 0.03, nan, nan, nan]"
      ]
     },
     "execution_count": 27,
     "metadata": {},
     "output_type": "execute_result"
    }
   ],
   "source": []
  },
  {
   "cell_type": "markdown",
   "metadata": {},
   "source": [
    "---\n",
    "\n",
    "<br>\n",
    "\n",
    "# Simul"
   ]
  },
  {
   "cell_type": "code",
   "execution_count": 65,
   "metadata": {},
   "outputs": [],
   "source": [
    "simul = pd.read_csv(\"../input/simulationData.csv\")"
   ]
  },
  {
   "cell_type": "code",
   "execution_count": 66,
   "metadata": {
    "scrolled": true
   },
   "outputs": [
    {
     "data": {
      "text/html": [
       "<div>\n",
       "<style scoped>\n",
       "    .dataframe tbody tr th:only-of-type {\n",
       "        vertical-align: middle;\n",
       "    }\n",
       "\n",
       "    .dataframe tbody tr th {\n",
       "        vertical-align: top;\n",
       "    }\n",
       "\n",
       "    .dataframe thead th {\n",
       "        text-align: right;\n",
       "    }\n",
       "</style>\n",
       "<table border=\"1\" class=\"dataframe\">\n",
       "  <thead>\n",
       "    <tr style=\"text-align: right;\">\n",
       "      <th></th>\n",
       "      <th>start</th>\n",
       "      <th>speed</th>\n",
       "      <th>angle</th>\n",
       "      <th>end</th>\n",
       "      <th>PorF</th>\n",
       "    </tr>\n",
       "  </thead>\n",
       "  <tbody>\n",
       "    <tr>\n",
       "      <th>0</th>\n",
       "      <td>(0, 0)</td>\n",
       "      <td>39</td>\n",
       "      <td>0.750492</td>\n",
       "      <td>(-36.568, 34.1)</td>\n",
       "      <td>0</td>\n",
       "    </tr>\n",
       "    <tr>\n",
       "      <th>1</th>\n",
       "      <td>(0, 0)</td>\n",
       "      <td>54</td>\n",
       "      <td>0.663225</td>\n",
       "      <td>(-39.401, 30.783)</td>\n",
       "      <td>0</td>\n",
       "    </tr>\n",
       "    <tr>\n",
       "      <th>2</th>\n",
       "      <td>(0, 0)</td>\n",
       "      <td>56</td>\n",
       "      <td>0.698132</td>\n",
       "      <td>(-38.302, 32.139)</td>\n",
       "      <td>0</td>\n",
       "    </tr>\n",
       "    <tr>\n",
       "      <th>3</th>\n",
       "      <td>(0, 0)</td>\n",
       "      <td>37</td>\n",
       "      <td>0.750492</td>\n",
       "      <td>(-36.568, 34.1)</td>\n",
       "      <td>0</td>\n",
       "    </tr>\n",
       "    <tr>\n",
       "      <th>4</th>\n",
       "      <td>(0, 0)</td>\n",
       "      <td>31</td>\n",
       "      <td>0.680678</td>\n",
       "      <td>(-38.857, 31.466)</td>\n",
       "      <td>0</td>\n",
       "    </tr>\n",
       "    <tr>\n",
       "      <th>...</th>\n",
       "      <td>...</td>\n",
       "      <td>...</td>\n",
       "      <td>...</td>\n",
       "      <td>...</td>\n",
       "      <td>...</td>\n",
       "    </tr>\n",
       "    <tr>\n",
       "      <th>5569</th>\n",
       "      <td>(0, 0)</td>\n",
       "      <td>44</td>\n",
       "      <td>0.680678</td>\n",
       "      <td>(-38.857, 31.466)</td>\n",
       "      <td>0</td>\n",
       "    </tr>\n",
       "    <tr>\n",
       "      <th>5570</th>\n",
       "      <td>(0, 0)</td>\n",
       "      <td>42</td>\n",
       "      <td>0.767945</td>\n",
       "      <td>(-35.967, 34.733)</td>\n",
       "      <td>0</td>\n",
       "    </tr>\n",
       "    <tr>\n",
       "      <th>5571</th>\n",
       "      <td>(0, 0)</td>\n",
       "      <td>66</td>\n",
       "      <td>0.750492</td>\n",
       "      <td>(-36.568, 34.1)</td>\n",
       "      <td>0</td>\n",
       "    </tr>\n",
       "    <tr>\n",
       "      <th>5572</th>\n",
       "      <td>(0, 0)</td>\n",
       "      <td>42</td>\n",
       "      <td>0.663225</td>\n",
       "      <td>(-39.401, 30.783)</td>\n",
       "      <td>0</td>\n",
       "    </tr>\n",
       "    <tr>\n",
       "      <th>5573</th>\n",
       "      <td>(0, 0)</td>\n",
       "      <td>44</td>\n",
       "      <td>0.750492</td>\n",
       "      <td>(-36.568, 34.1)</td>\n",
       "      <td>0</td>\n",
       "    </tr>\n",
       "  </tbody>\n",
       "</table>\n",
       "<p>5574 rows × 5 columns</p>\n",
       "</div>"
      ],
      "text/plain": [
       "       start  speed     angle                end  PorF\n",
       "0     (0, 0)     39  0.750492    (-36.568, 34.1)     0\n",
       "1     (0, 0)     54  0.663225  (-39.401, 30.783)     0\n",
       "2     (0, 0)     56  0.698132  (-38.302, 32.139)     0\n",
       "3     (0, 0)     37  0.750492    (-36.568, 34.1)     0\n",
       "4     (0, 0)     31  0.680678  (-38.857, 31.466)     0\n",
       "...      ...    ...       ...                ...   ...\n",
       "5569  (0, 0)     44  0.680678  (-38.857, 31.466)     0\n",
       "5570  (0, 0)     42  0.767945  (-35.967, 34.733)     0\n",
       "5571  (0, 0)     66  0.750492    (-36.568, 34.1)     0\n",
       "5572  (0, 0)     42  0.663225  (-39.401, 30.783)     0\n",
       "5573  (0, 0)     44  0.750492    (-36.568, 34.1)     0\n",
       "\n",
       "[5574 rows x 5 columns]"
      ]
     },
     "execution_count": 66,
     "metadata": {},
     "output_type": "execute_result"
    }
   ],
   "source": [
    "simul"
   ]
  },
  {
   "cell_type": "code",
   "execution_count": 67,
   "metadata": {
    "scrolled": true
   },
   "outputs": [
    {
     "data": {
      "text/html": [
       "<div>\n",
       "<style scoped>\n",
       "    .dataframe tbody tr th:only-of-type {\n",
       "        vertical-align: middle;\n",
       "    }\n",
       "\n",
       "    .dataframe tbody tr th {\n",
       "        vertical-align: top;\n",
       "    }\n",
       "\n",
       "    .dataframe thead th {\n",
       "        text-align: right;\n",
       "    }\n",
       "</style>\n",
       "<table border=\"1\" class=\"dataframe\">\n",
       "  <thead>\n",
       "    <tr style=\"text-align: right;\">\n",
       "      <th></th>\n",
       "      <th>speed</th>\n",
       "      <th>angle</th>\n",
       "    </tr>\n",
       "  </thead>\n",
       "  <tbody>\n",
       "    <tr>\n",
       "      <th>0</th>\n",
       "      <td>39</td>\n",
       "      <td>0.750492</td>\n",
       "    </tr>\n",
       "    <tr>\n",
       "      <th>1</th>\n",
       "      <td>54</td>\n",
       "      <td>0.663225</td>\n",
       "    </tr>\n",
       "    <tr>\n",
       "      <th>2</th>\n",
       "      <td>56</td>\n",
       "      <td>0.698132</td>\n",
       "    </tr>\n",
       "    <tr>\n",
       "      <th>3</th>\n",
       "      <td>37</td>\n",
       "      <td>0.750492</td>\n",
       "    </tr>\n",
       "    <tr>\n",
       "      <th>4</th>\n",
       "      <td>31</td>\n",
       "      <td>0.680678</td>\n",
       "    </tr>\n",
       "    <tr>\n",
       "      <th>...</th>\n",
       "      <td>...</td>\n",
       "      <td>...</td>\n",
       "    </tr>\n",
       "    <tr>\n",
       "      <th>5569</th>\n",
       "      <td>44</td>\n",
       "      <td>0.680678</td>\n",
       "    </tr>\n",
       "    <tr>\n",
       "      <th>5570</th>\n",
       "      <td>42</td>\n",
       "      <td>0.767945</td>\n",
       "    </tr>\n",
       "    <tr>\n",
       "      <th>5571</th>\n",
       "      <td>66</td>\n",
       "      <td>0.750492</td>\n",
       "    </tr>\n",
       "    <tr>\n",
       "      <th>5572</th>\n",
       "      <td>42</td>\n",
       "      <td>0.663225</td>\n",
       "    </tr>\n",
       "    <tr>\n",
       "      <th>5573</th>\n",
       "      <td>44</td>\n",
       "      <td>0.750492</td>\n",
       "    </tr>\n",
       "  </tbody>\n",
       "</table>\n",
       "<p>5574 rows × 2 columns</p>\n",
       "</div>"
      ],
      "text/plain": [
       "      speed     angle\n",
       "0        39  0.750492\n",
       "1        54  0.663225\n",
       "2        56  0.698132\n",
       "3        37  0.750492\n",
       "4        31  0.680678\n",
       "...     ...       ...\n",
       "5569     44  0.680678\n",
       "5570     42  0.767945\n",
       "5571     66  0.750492\n",
       "5572     42  0.663225\n",
       "5573     44  0.750492\n",
       "\n",
       "[5574 rows x 2 columns]"
      ]
     },
     "execution_count": 67,
     "metadata": {},
     "output_type": "execute_result"
    }
   ],
   "source": [
    "simul = simul.drop(['start', 'end', 'PorF'], axis=1)\n",
    "simul"
   ]
  },
  {
   "cell_type": "markdown",
   "metadata": {},
   "source": [
    "# 1. Speed"
   ]
  },
  {
   "cell_type": "code",
   "execution_count": 68,
   "metadata": {
    "scrolled": true
   },
   "outputs": [
    {
     "data": {
      "text/plain": [
       "42    2.332257\n",
       "62    2.296376\n",
       "32    2.260495\n",
       "44    2.260495\n",
       "73    2.242555\n",
       "51    2.170793\n",
       "31    2.170793\n",
       "48    2.152853\n",
       "64    2.152853\n",
       "38    2.152853\n",
       "47    2.134912\n",
       "35    2.134912\n",
       "43    2.116972\n",
       "77    2.081091\n",
       "49    2.063150\n",
       "53    2.063150\n",
       "68    2.063150\n",
       "61    2.063150\n",
       "37    2.063150\n",
       "58    2.009329\n",
       "70    2.009329\n",
       "63    2.009329\n",
       "74    1.991389\n",
       "78    1.991389\n",
       "66    1.973448\n",
       "56    1.937567\n",
       "41    1.919627\n",
       "75    1.919627\n",
       "60    1.901686\n",
       "54    1.901686\n",
       "65    1.901686\n",
       "33    1.901686\n",
       "69    1.901686\n",
       "67    1.883746\n",
       "50    1.865806\n",
       "34    1.865806\n",
       "76    1.847865\n",
       "79    1.847865\n",
       "55    1.847865\n",
       "46    1.794044\n",
       "59    1.794044\n",
       "36    1.794044\n",
       "45    1.776103\n",
       "30    1.758163\n",
       "40    1.722282\n",
       "39    1.704342\n",
       "80    1.686401\n",
       "71    1.686401\n",
       "57    1.650520\n",
       "72    1.614639\n",
       "52    1.614639\n",
       "Name: speed, dtype: float64"
      ]
     },
     "execution_count": 68,
     "metadata": {},
     "output_type": "execute_result"
    }
   ],
   "source": [
    "# speed\n",
    "simul[\"speed\"].value_counts(normalize=True) * 100"
   ]
  },
  {
   "cell_type": "code",
   "execution_count": 69,
   "metadata": {},
   "outputs": [
    {
     "data": {
      "text/plain": [
       "30"
      ]
     },
     "execution_count": 69,
     "metadata": {},
     "output_type": "execute_result"
    }
   ],
   "source": [
    "simul[\"speed\"].min()"
   ]
  },
  {
   "cell_type": "code",
   "execution_count": 70,
   "metadata": {},
   "outputs": [],
   "source": [
    "def changeSpeed(x):\n",
    "    if x >= 30 and x < 40: return 1\n",
    "    elif x >= 40 and x < 50: return 2\n",
    "    elif x >= 50 and x < 60: return 3\n",
    "    elif x >= 60 and x < 70: return 4\n",
    "    else: return 5\n",
    "    \n",
    "    \n",
    "simul[\"speed\"] = simul[\"speed\"].apply(changeSpeed)"
   ]
  },
  {
   "cell_type": "code",
   "execution_count": 71,
   "metadata": {
    "scrolled": true
   },
   "outputs": [
    {
     "data": {
      "text/plain": [
       "5    20.918550\n",
       "2    20.272695\n",
       "4    20.147112\n",
       "1    19.806243\n",
       "3    18.855400\n",
       "Name: speed, dtype: float64"
      ]
     },
     "execution_count": 71,
     "metadata": {},
     "output_type": "execute_result"
    }
   ],
   "source": [
    "simul[\"speed\"].value_counts(normalize=True) * 100"
   ]
  },
  {
   "cell_type": "code",
   "execution_count": 72,
   "metadata": {},
   "outputs": [],
   "source": [
    "def changeSpeed2(x):\n",
    "    if x == 5: return 0.21\n",
    "    elif x == 2: return 0.2054\n",
    "    elif x == 4: return 0.2046\n",
    "    elif x == 1: return 0.195\n",
    "    elif x == 3: return 0.185\n",
    "    \n",
    "    \n",
    "simul[\"speed\"] = simul[\"speed\"].apply(changeSpeed2)"
   ]
  },
  {
   "cell_type": "code",
   "execution_count": 73,
   "metadata": {},
   "outputs": [
    {
     "data": {
      "text/plain": [
       "0.2100    20.918550\n",
       "0.2054    20.272695\n",
       "0.2046    20.147112\n",
       "0.1950    19.806243\n",
       "0.1850    18.855400\n",
       "Name: speed, dtype: float64"
      ]
     },
     "execution_count": 73,
     "metadata": {},
     "output_type": "execute_result"
    }
   ],
   "source": [
    "simul['speed'].value_counts(normalize=True) * 100"
   ]
  },
  {
   "cell_type": "markdown",
   "metadata": {},
   "source": [
    "<br>\n",
    "\n",
    "# 2. Angle"
   ]
  },
  {
   "cell_type": "code",
   "execution_count": 74,
   "metadata": {
    "scrolled": false
   },
   "outputs": [
    {
     "data": {
      "text/plain": [
       "0.767945    13.024758\n",
       "0.750492    12.970936\n",
       "0.715585    12.881234\n",
       "0.680678    12.863294\n",
       "0.698132    12.360962\n",
       "0.663225    12.325081\n",
       "0.733038    11.894510\n",
       "0.645772    11.679225\n",
       "Name: angle, dtype: float64"
      ]
     },
     "execution_count": 74,
     "metadata": {},
     "output_type": "execute_result"
    }
   ],
   "source": [
    "simul[\"angle\"].value_counts(normalize=True) * 100"
   ]
  },
  {
   "cell_type": "code",
   "execution_count": 75,
   "metadata": {
    "scrolled": true
   },
   "outputs": [
    {
     "data": {
      "text/plain": [
       "6    0.767945\n",
       "0    0.750492\n",
       "7    0.733038\n",
       "2    0.715585\n",
       "4    0.698132\n",
       "3    0.680678\n",
       "1    0.663225\n",
       "5    0.645772\n",
       "dtype: float64"
      ]
     },
     "execution_count": 75,
     "metadata": {},
     "output_type": "execute_result"
    }
   ],
   "source": [
    "angle = simul['angle']\n",
    "angle = displacementCol(angle)\n",
    "angle"
   ]
  },
  {
   "cell_type": "code",
   "execution_count": 76,
   "metadata": {},
   "outputs": [],
   "source": [
    "import math\n",
    "\n",
    "def angle2(df):\n",
    "    angle2 = []\n",
    "    \n",
    "    for i in range(len(df)):\n",
    "        y = df[i]\n",
    "        x = y * (180 / math.pi)\n",
    "        angle2.append(x)\n",
    "    \n",
    "    good = pd.Series(angle2)\n",
    "    return good"
   ]
  },
  {
   "cell_type": "code",
   "execution_count": 77,
   "metadata": {},
   "outputs": [],
   "source": [
    "good = angle2(simul['angle'])"
   ]
  },
  {
   "cell_type": "code",
   "execution_count": 78,
   "metadata": {},
   "outputs": [],
   "source": [
    "simul['angle2'] = good"
   ]
  },
  {
   "cell_type": "code",
   "execution_count": 79,
   "metadata": {},
   "outputs": [
    {
     "data": {
      "text/html": [
       "<div>\n",
       "<style scoped>\n",
       "    .dataframe tbody tr th:only-of-type {\n",
       "        vertical-align: middle;\n",
       "    }\n",
       "\n",
       "    .dataframe tbody tr th {\n",
       "        vertical-align: top;\n",
       "    }\n",
       "\n",
       "    .dataframe thead th {\n",
       "        text-align: right;\n",
       "    }\n",
       "</style>\n",
       "<table border=\"1\" class=\"dataframe\">\n",
       "  <thead>\n",
       "    <tr style=\"text-align: right;\">\n",
       "      <th></th>\n",
       "      <th>speed</th>\n",
       "      <th>angle</th>\n",
       "      <th>angle2</th>\n",
       "    </tr>\n",
       "  </thead>\n",
       "  <tbody>\n",
       "    <tr>\n",
       "      <th>0</th>\n",
       "      <td>0.1950</td>\n",
       "      <td>0.750492</td>\n",
       "      <td>43.0</td>\n",
       "    </tr>\n",
       "    <tr>\n",
       "      <th>1</th>\n",
       "      <td>0.1850</td>\n",
       "      <td>0.663225</td>\n",
       "      <td>38.0</td>\n",
       "    </tr>\n",
       "    <tr>\n",
       "      <th>2</th>\n",
       "      <td>0.1850</td>\n",
       "      <td>0.698132</td>\n",
       "      <td>40.0</td>\n",
       "    </tr>\n",
       "    <tr>\n",
       "      <th>3</th>\n",
       "      <td>0.1950</td>\n",
       "      <td>0.750492</td>\n",
       "      <td>43.0</td>\n",
       "    </tr>\n",
       "    <tr>\n",
       "      <th>4</th>\n",
       "      <td>0.1950</td>\n",
       "      <td>0.680678</td>\n",
       "      <td>39.0</td>\n",
       "    </tr>\n",
       "    <tr>\n",
       "      <th>...</th>\n",
       "      <td>...</td>\n",
       "      <td>...</td>\n",
       "      <td>...</td>\n",
       "    </tr>\n",
       "    <tr>\n",
       "      <th>5569</th>\n",
       "      <td>0.2054</td>\n",
       "      <td>0.680678</td>\n",
       "      <td>39.0</td>\n",
       "    </tr>\n",
       "    <tr>\n",
       "      <th>5570</th>\n",
       "      <td>0.2054</td>\n",
       "      <td>0.767945</td>\n",
       "      <td>44.0</td>\n",
       "    </tr>\n",
       "    <tr>\n",
       "      <th>5571</th>\n",
       "      <td>0.2046</td>\n",
       "      <td>0.750492</td>\n",
       "      <td>43.0</td>\n",
       "    </tr>\n",
       "    <tr>\n",
       "      <th>5572</th>\n",
       "      <td>0.2054</td>\n",
       "      <td>0.663225</td>\n",
       "      <td>38.0</td>\n",
       "    </tr>\n",
       "    <tr>\n",
       "      <th>5573</th>\n",
       "      <td>0.2054</td>\n",
       "      <td>0.750492</td>\n",
       "      <td>43.0</td>\n",
       "    </tr>\n",
       "  </tbody>\n",
       "</table>\n",
       "<p>5574 rows × 3 columns</p>\n",
       "</div>"
      ],
      "text/plain": [
       "       speed     angle  angle2\n",
       "0     0.1950  0.750492    43.0\n",
       "1     0.1850  0.663225    38.0\n",
       "2     0.1850  0.698132    40.0\n",
       "3     0.1950  0.750492    43.0\n",
       "4     0.1950  0.680678    39.0\n",
       "...      ...       ...     ...\n",
       "5569  0.2054  0.680678    39.0\n",
       "5570  0.2054  0.767945    44.0\n",
       "5571  0.2046  0.750492    43.0\n",
       "5572  0.2054  0.663225    38.0\n",
       "5573  0.2054  0.750492    43.0\n",
       "\n",
       "[5574 rows x 3 columns]"
      ]
     },
     "execution_count": 79,
     "metadata": {},
     "output_type": "execute_result"
    }
   ],
   "source": [
    "simul"
   ]
  },
  {
   "cell_type": "code",
   "execution_count": 80,
   "metadata": {
    "scrolled": true
   },
   "outputs": [
    {
     "data": {
      "text/plain": [
       "44.0    13.024758\n",
       "43.0    12.970936\n",
       "41.0    12.881234\n",
       "39.0    12.863294\n",
       "40.0    12.360962\n",
       "38.0    12.325081\n",
       "42.0    11.894510\n",
       "37.0    11.679225\n",
       "Name: angle2, dtype: float64"
      ]
     },
     "execution_count": 80,
     "metadata": {},
     "output_type": "execute_result"
    }
   ],
   "source": [
    "simul[\"angle2\"].value_counts(normalize=True) * 100"
   ]
  },
  {
   "cell_type": "code",
   "execution_count": 81,
   "metadata": {},
   "outputs": [],
   "source": [
    "def changeAngle(x):\n",
    "    if x >= 37.0 and x <= 38.0: return 1\n",
    "    elif x >= 39.0 and x <= 40.0: return 2\n",
    "    elif x >= 41.0 and x <= 42.0: return 3\n",
    "    else: return 4\n",
    "    \n",
    "simul[\"angle2\"] = simul[\"angle2\"].apply(changeAngle)"
   ]
  },
  {
   "cell_type": "code",
   "execution_count": 83,
   "metadata": {},
   "outputs": [
    {
     "data": {
      "text/plain": [
       "4    25.995694\n",
       "2    25.224255\n",
       "3    24.775745\n",
       "1    24.004306\n",
       "Name: angle2, dtype: float64"
      ]
     },
     "execution_count": 83,
     "metadata": {},
     "output_type": "execute_result"
    }
   ],
   "source": [
    "simul['angle2'].value_counts(normalize=True) * 100"
   ]
  },
  {
   "cell_type": "code",
   "execution_count": 84,
   "metadata": {},
   "outputs": [],
   "source": [
    "def changeAngle2(x):\n",
    "    if x == 4: return 0.27\n",
    "    elif x == 2: return 0.26\n",
    "    elif x == 3: return 0.25\n",
    "    elif x == 1: return 0.22\n",
    "    \n",
    "simul[\"angle2\"] = simul[\"angle2\"].apply(changeAngle2)"
   ]
  },
  {
   "cell_type": "code",
   "execution_count": 86,
   "metadata": {},
   "outputs": [
    {
     "data": {
      "text/html": [
       "<div>\n",
       "<style scoped>\n",
       "    .dataframe tbody tr th:only-of-type {\n",
       "        vertical-align: middle;\n",
       "    }\n",
       "\n",
       "    .dataframe tbody tr th {\n",
       "        vertical-align: top;\n",
       "    }\n",
       "\n",
       "    .dataframe thead th {\n",
       "        text-align: right;\n",
       "    }\n",
       "</style>\n",
       "<table border=\"1\" class=\"dataframe\">\n",
       "  <thead>\n",
       "    <tr style=\"text-align: right;\">\n",
       "      <th></th>\n",
       "      <th>speed</th>\n",
       "      <th>angle2</th>\n",
       "    </tr>\n",
       "  </thead>\n",
       "  <tbody>\n",
       "    <tr>\n",
       "      <th>0</th>\n",
       "      <td>0.1950</td>\n",
       "      <td>0.27</td>\n",
       "    </tr>\n",
       "    <tr>\n",
       "      <th>1</th>\n",
       "      <td>0.1850</td>\n",
       "      <td>0.22</td>\n",
       "    </tr>\n",
       "    <tr>\n",
       "      <th>2</th>\n",
       "      <td>0.1850</td>\n",
       "      <td>0.26</td>\n",
       "    </tr>\n",
       "    <tr>\n",
       "      <th>3</th>\n",
       "      <td>0.1950</td>\n",
       "      <td>0.27</td>\n",
       "    </tr>\n",
       "    <tr>\n",
       "      <th>4</th>\n",
       "      <td>0.1950</td>\n",
       "      <td>0.26</td>\n",
       "    </tr>\n",
       "    <tr>\n",
       "      <th>...</th>\n",
       "      <td>...</td>\n",
       "      <td>...</td>\n",
       "    </tr>\n",
       "    <tr>\n",
       "      <th>5569</th>\n",
       "      <td>0.2054</td>\n",
       "      <td>0.26</td>\n",
       "    </tr>\n",
       "    <tr>\n",
       "      <th>5570</th>\n",
       "      <td>0.2054</td>\n",
       "      <td>0.27</td>\n",
       "    </tr>\n",
       "    <tr>\n",
       "      <th>5571</th>\n",
       "      <td>0.2046</td>\n",
       "      <td>0.27</td>\n",
       "    </tr>\n",
       "    <tr>\n",
       "      <th>5572</th>\n",
       "      <td>0.2054</td>\n",
       "      <td>0.22</td>\n",
       "    </tr>\n",
       "    <tr>\n",
       "      <th>5573</th>\n",
       "      <td>0.2054</td>\n",
       "      <td>0.27</td>\n",
       "    </tr>\n",
       "  </tbody>\n",
       "</table>\n",
       "<p>5574 rows × 2 columns</p>\n",
       "</div>"
      ],
      "text/plain": [
       "       speed  angle2\n",
       "0     0.1950    0.27\n",
       "1     0.1850    0.22\n",
       "2     0.1850    0.26\n",
       "3     0.1950    0.27\n",
       "4     0.1950    0.26\n",
       "...      ...     ...\n",
       "5569  0.2054    0.26\n",
       "5570  0.2054    0.27\n",
       "5571  0.2046    0.27\n",
       "5572  0.2054    0.22\n",
       "5573  0.2054    0.27\n",
       "\n",
       "[5574 rows x 2 columns]"
      ]
     },
     "execution_count": 86,
     "metadata": {},
     "output_type": "execute_result"
    }
   ],
   "source": [
    "simul = simul.drop('angle', axis=1)\n",
    "simul"
   ]
  },
  {
   "cell_type": "code",
   "execution_count": 92,
   "metadata": {},
   "outputs": [
    {
     "data": {
      "text/plain": [
       "2    0.2100\n",
       "4    0.2054\n",
       "1    0.2046\n",
       "0    0.1950\n",
       "3    0.1850\n",
       "dtype: float64"
      ]
     },
     "execution_count": 92,
     "metadata": {},
     "output_type": "execute_result"
    }
   ],
   "source": [
    "df6 = simul['speed']\n",
    "df6 = displacementCol(df6)\n",
    "df6"
   ]
  },
  {
   "cell_type": "code",
   "execution_count": 93,
   "metadata": {},
   "outputs": [
    {
     "data": {
      "text/plain": [
       "0    0.27\n",
       "1    0.26\n",
       "3    0.25\n",
       "2    0.22\n",
       "dtype: float64"
      ]
     },
     "execution_count": 93,
     "metadata": {},
     "output_type": "execute_result"
    }
   ],
   "source": [
    "df7 = simul['angle2']\n",
    "df7 = displacementCol(df7)\n",
    "df7"
   ]
  },
  {
   "cell_type": "code",
   "execution_count": 94,
   "metadata": {},
   "outputs": [],
   "source": [
    "table['speed'] = df6\n",
    "table['angle'] = df7"
   ]
  },
  {
   "cell_type": "code",
   "execution_count": 95,
   "metadata": {},
   "outputs": [
    {
     "data": {
      "text/html": [
       "<div>\n",
       "<style scoped>\n",
       "    .dataframe tbody tr th:only-of-type {\n",
       "        vertical-align: middle;\n",
       "    }\n",
       "\n",
       "    .dataframe tbody tr th {\n",
       "        vertical-align: top;\n",
       "    }\n",
       "\n",
       "    .dataframe thead th {\n",
       "        text-align: right;\n",
       "    }\n",
       "</style>\n",
       "<table border=\"1\" class=\"dataframe\">\n",
       "  <thead>\n",
       "    <tr style=\"text-align: right;\">\n",
       "      <th></th>\n",
       "      <th>POSTED_SPEED_LIMIT</th>\n",
       "      <th>WEATHER_CONDITION</th>\n",
       "      <th>ROADWAY_SURFACE_COND</th>\n",
       "      <th>ROAD_DEFECT</th>\n",
       "      <th>CRASH_HOUR</th>\n",
       "      <th>speed</th>\n",
       "      <th>angle</th>\n",
       "    </tr>\n",
       "  </thead>\n",
       "  <tbody>\n",
       "    <tr>\n",
       "      <th>0</th>\n",
       "      <td>0.03</td>\n",
       "      <td>0.83</td>\n",
       "      <td>0.78</td>\n",
       "      <td>0.97</td>\n",
       "      <td>0.24</td>\n",
       "      <td>0.1950</td>\n",
       "      <td>0.27</td>\n",
       "    </tr>\n",
       "    <tr>\n",
       "      <th>1</th>\n",
       "      <td>0.80</td>\n",
       "      <td>0.09</td>\n",
       "      <td>0.15</td>\n",
       "      <td>0.03</td>\n",
       "      <td>0.26</td>\n",
       "      <td>0.2046</td>\n",
       "      <td>0.26</td>\n",
       "    </tr>\n",
       "    <tr>\n",
       "      <th>2</th>\n",
       "      <td>0.08</td>\n",
       "      <td>0.03</td>\n",
       "      <td>0.01</td>\n",
       "      <td>NaN</td>\n",
       "      <td>0.08</td>\n",
       "      <td>0.2100</td>\n",
       "      <td>0.22</td>\n",
       "    </tr>\n",
       "    <tr>\n",
       "      <th>3</th>\n",
       "      <td>0.07</td>\n",
       "      <td>0.01</td>\n",
       "      <td>0.04</td>\n",
       "      <td>NaN</td>\n",
       "      <td>0.42</td>\n",
       "      <td>0.1850</td>\n",
       "      <td>0.25</td>\n",
       "    </tr>\n",
       "    <tr>\n",
       "      <th>4</th>\n",
       "      <td>0.02</td>\n",
       "      <td>0.04</td>\n",
       "      <td>0.02</td>\n",
       "      <td>NaN</td>\n",
       "      <td>NaN</td>\n",
       "      <td>0.2054</td>\n",
       "      <td>NaN</td>\n",
       "    </tr>\n",
       "  </tbody>\n",
       "</table>\n",
       "</div>"
      ],
      "text/plain": [
       "   POSTED_SPEED_LIMIT  WEATHER_CONDITION  ROADWAY_SURFACE_COND  ROAD_DEFECT  \\\n",
       "0                0.03               0.83                  0.78         0.97   \n",
       "1                0.80               0.09                  0.15         0.03   \n",
       "2                0.08               0.03                  0.01          NaN   \n",
       "3                0.07               0.01                  0.04          NaN   \n",
       "4                0.02               0.04                  0.02          NaN   \n",
       "\n",
       "   CRASH_HOUR   speed  angle  \n",
       "0        0.24  0.1950   0.27  \n",
       "1        0.26  0.2046   0.26  \n",
       "2        0.08  0.2100   0.22  \n",
       "3        0.42  0.1850   0.25  \n",
       "4         NaN  0.2054    NaN  "
      ]
     },
     "execution_count": 95,
     "metadata": {},
     "output_type": "execute_result"
    }
   ],
   "source": [
    "table"
   ]
  },
  {
   "cell_type": "code",
   "execution_count": 96,
   "metadata": {},
   "outputs": [],
   "source": [
    "table.to_csv('table.csv', index=False)"
   ]
  },
  {
   "cell_type": "code",
   "execution_count": null,
   "metadata": {},
   "outputs": [],
   "source": []
  }
 ],
 "metadata": {
  "kernelspec": {
   "display_name": "Python 3",
   "language": "python",
   "name": "python3"
  },
  "language_info": {
   "codemirror_mode": {
    "name": "ipython",
    "version": 3
   },
   "file_extension": ".py",
   "mimetype": "text/x-python",
   "name": "python",
   "nbconvert_exporter": "python",
   "pygments_lexer": "ipython3",
   "version": "3.7.6"
  }
 },
 "nbformat": 4,
 "nbformat_minor": 2
}
